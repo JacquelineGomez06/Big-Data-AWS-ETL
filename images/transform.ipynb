{
 "cells": [
  {
   "cell_type": "code",
   "execution_count": 23,
   "metadata": {},
   "outputs": [],
   "source": [
    "import pandas as pd\n",
    "\n",
    "job_df=pd.read_csv(\"/Users/Jackie/joined_data.csv\")\n"
   ]
  },
  {
   "cell_type": "code",
   "execution_count": 24,
   "metadata": {},
   "outputs": [],
   "source": [
    "job_df[\"work_from_home\"].fillna(value=False,inplace=True)"
   ]
  },
  {
   "cell_type": "code",
   "execution_count": 25,
   "metadata": {},
   "outputs": [],
   "source": [
    "import pandas as pd\n",
    "from sklearn.preprocessing import MultiLabelBinarizer\n",
    "\n",
    "\n",
    "# Define function to convert string representations of lists into actual lists\n",
    "def convert_lst(l):\n",
    "    try:\n",
    "        return eval(l)\n",
    "    except:\n",
    "        return []\n",
    "\n",
    "# Apply func to description_tokens column\n",
    "job_df[\"description_tokens\"] = job_df[\"description_tokens\"].apply(convert_lst)\n",
    "\n",
    "# Create instance of MultiLabelBinarizer and fit to description_tokens col\n",
    "mlb = MultiLabelBinarizer()\n",
    "mlb.fit(job_df[\"description_tokens\"])\n",
    "\n",
    "# Transform  description_tokens col to binary column for each unique token\n",
    "lst_df = pd.DataFrame(mlb.transform(job_df[\"description_tokens\"]), columns=mlb.classes_)\n",
    "\n",
    "token_df = pd.concat([job_df, lst_df], axis=1)\n"
   ]
  },
  {
   "cell_type": "code",
   "execution_count": 26,
   "metadata": {},
   "outputs": [],
   "source": [
    "\n",
    "token_df = token_df.dropna(subset=[\"salary_standardized\"])"
   ]
  },
  {
   "cell_type": "code",
   "execution_count": 28,
   "metadata": {},
   "outputs": [],
   "source": [
    "# save new data into data folder \n",
    "token_df.to_csv(\"data/token_df.csv\", index=False)"
   ]
  }
 ],
 "metadata": {
  "kernelspec": {
   "display_name": "Python 3.10.7 64-bit",
   "language": "python",
   "name": "python3"
  },
  "language_info": {
   "codemirror_mode": {
    "name": "ipython",
    "version": 3
   },
   "file_extension": ".py",
   "mimetype": "text/x-python",
   "name": "python",
   "nbconvert_exporter": "python",
   "pygments_lexer": "ipython3",
   "version": "3.10.7"
  },
  "orig_nbformat": 4,
  "vscode": {
   "interpreter": {
    "hash": "aee8b7b246df8f9039afb4144a1f6fd8d2ca17a180786b69acc140d282b71a49"
   }
  }
 },
 "nbformat": 4,
 "nbformat_minor": 2
}
