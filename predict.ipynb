{
 "cells": [
  {
   "cell_type": "code",
   "execution_count": 1,
   "metadata": {},
   "outputs": [],
   "source": [
    "import pandas as pd\n",
    "import numpy as np\n",
    "from sklearn.linear_model import LinearRegression\n",
    "from sklearn.model_selection import train_test_split"
   ]
  },
  {
   "cell_type": "code",
   "execution_count": 2,
   "metadata": {},
   "outputs": [],
   "source": [
    "data_df=pd.read_csv(\"data/token_df.csv\")"
   ]
  },
  {
   "cell_type": "code",
   "execution_count": 3,
   "metadata": {},
   "outputs": [
    {
     "name": "stdout",
     "output_type": "stream",
     "text": [
      "R-squared value: -9.190850965524029e+20\n",
      "Coefficients: [ 1.10878718e+04 -1.49808323e+02  1.67210653e+16  2.47181044e+16\n",
      "  3.46246974e+16 -2.66540257e+03  4.62677817e+03  1.38534049e+03\n",
      "  7.45482729e+03  4.83302667e+04 -1.47835172e+04  4.23166773e+04\n",
      "  2.39966273e+04  1.44356100e+04  6.73785944e+15 -1.24806979e+15\n",
      "  3.47684049e+03 -2.80793343e+04  1.47633301e+04 -1.84630287e+15\n",
      " -9.51443022e+03  9.01573433e+03  9.10936366e+14 -1.22926628e+04\n",
      " -3.33404041e+13 -1.15502987e+04  1.97645028e+04  2.05857500e+15\n",
      "  4.32496554e+03 -1.10388095e+04  2.36027766e+04 -4.75118141e+03\n",
      "  1.03988378e+14  2.39766064e+14 -6.99202076e+13  2.05893750e+04\n",
      " -8.20750000e+03  2.52490000e+04  8.91700000e+03  3.31100000e+03\n",
      " -2.56615000e+04  5.09487422e+04 -2.35202500e+04 -1.63710000e+04\n",
      "  8.41591875e+04 -2.33395000e+04 -2.05857500e+15  8.41600000e+03\n",
      "  5.11850000e+03 -1.15600000e+04 -1.20485000e+04 -3.87255000e+04\n",
      "  4.23331875e+04  4.93635000e+04 -1.86890000e+04 -2.16418438e+04\n",
      " -2.13801132e+12  2.39398235e+12  7.22925000e+03  1.51126639e+11\n",
      "  2.35150000e+04 -6.98150000e+03 -2.68230000e+04 -3.39034373e+10\n",
      "  2.59321875e+04  1.75630000e+04  1.23671806e+10 -2.07870000e+04\n",
      " -2.83780000e+04  2.75200000e+03  7.01650000e+03 -1.10708438e+04\n",
      "  9.73650000e+03 -7.70300000e+03  3.22725000e+03 -2.73930000e+04\n",
      "  1.48572500e+04  1.89100000e+03  7.16618750e+03  2.30502500e+04\n",
      " -2.34215005e+05 -1.90481250e+03  2.05627217e+04  1.00850000e+03\n",
      "  6.06250000e+03 -6.44250000e+03  2.15835000e+04 -1.13000000e+02\n",
      " -4.89810000e+04 -4.64400000e+03 -3.57413750e+04  1.28440000e+04\n",
      "  0.00000000e+00  2.81980000e+04  3.24877500e+04 -2.96500000e+02\n",
      " -2.12080000e+04  3.28800000e+03 -9.39700000e+03  9.42450000e+03\n",
      "  7.90487500e+03  3.22300000e+03 -6.88000000e+02 -4.22672500e+04\n",
      " -3.24753750e+04  0.00000000e+00 -2.03826875e+04  0.00000000e+00\n",
      "  2.63957500e+04 -7.91190000e+04  0.00000000e+00 -2.62400000e+03\n",
      " -4.57150000e+03 -4.40650000e+03  0.00000000e+00  0.00000000e+00\n",
      " -1.18460000e+04  1.53150000e+03 -5.78798125e+04  1.52180000e+04\n",
      " -7.11200000e+03]\n"
     ]
    }
   ],
   "source": [
    "# create X and y arrays\n",
    "skills = data_df.loc[:,\"airflow\":]\n",
    "schedule_type = pd.get_dummies(data_df['schedule_type'], drop_first=True)\n",
    "work_from_home = data_df['work_from_home']\n",
    "\n",
    "X = pd.concat([skills, schedule_type, work_from_home], axis=1)\n",
    "y = data_df['salary_standardized']\n",
    "\n",
    "# split data into training and testing sets\n",
    "X_train, X_test, y_train, y_test = train_test_split(X, y, test_size=0.2, random_state=0)\n",
    "\n",
    "# create a linear regression model and fit it to the training data\n",
    "model = LinearRegression()\n",
    "model.fit(X_train, y_train)\n",
    "\n",
    "# print the R-squared value of the model on the test set\n",
    "print(f\"R-squared value: {model.score(X_test, y_test)}\")\n",
    "print(f\"Coefficients: {model.coef_}\")"
   ]
  }
 ],
 "metadata": {
  "kernelspec": {
   "display_name": "Python 3.10.7 64-bit",
   "language": "python",
   "name": "python3"
  },
  "language_info": {
   "codemirror_mode": {
    "name": "ipython",
    "version": 3
   },
   "file_extension": ".py",
   "mimetype": "text/x-python",
   "name": "python",
   "nbconvert_exporter": "python",
   "pygments_lexer": "ipython3",
   "version": "3.10.7"
  },
  "orig_nbformat": 4,
  "vscode": {
   "interpreter": {
    "hash": "aee8b7b246df8f9039afb4144a1f6fd8d2ca17a180786b69acc140d282b71a49"
   }
  }
 },
 "nbformat": 4,
 "nbformat_minor": 2
}
